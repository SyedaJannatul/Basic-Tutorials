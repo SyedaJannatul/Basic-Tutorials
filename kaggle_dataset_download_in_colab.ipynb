{
  "nbformat": 4,
  "nbformat_minor": 0,
  "metadata": {
    "colab": {
      "name": "kaggle dataset download in colab.ipynb",
      "provenance": [],
      "collapsed_sections": [],
      "authorship_tag": "ABX9TyPXB2heSJWk/cfMBlhKNqeG",
      "include_colab_link": true
    },
    "kernelspec": {
      "name": "python3",
      "display_name": "Python 3"
    },
    "language_info": {
      "name": "python"
    }
  },
  "cells": [
    {
      "cell_type": "markdown",
      "metadata": {
        "id": "view-in-github",
        "colab_type": "text"
      },
      "source": [
        "<a href=\"https://colab.research.google.com/github/SyedaJannatul/Basic-Tutorials/blob/main/kaggle_dataset_download_in_colab.ipynb\" target=\"_parent\"><img src=\"https://colab.research.google.com/assets/colab-badge.svg\" alt=\"Open In Colab\"/></a>"
      ]
    },
    {
      "cell_type": "code",
      "metadata": {
        "id": "tDVuwq60EHpT"
      },
      "source": [
        "!pip install -q kaggle"
      ],
      "execution_count": null,
      "outputs": []
    },
    {
      "cell_type": "code",
      "metadata": {
        "id": "0T31ZDKvEXhv"
      },
      "source": [
        "#Upload the kaggle account API -> kaggle.json\n",
        "from google.colab import files\n",
        "uploaded=files.upload()"
      ],
      "execution_count": null,
      "outputs": []
    },
    {
      "cell_type": "code",
      "metadata": {
        "id": "4Ko7gvWMEbI3"
      },
      "source": [
        "# save this file into a directory named kaggle\n",
        "# ~/ is shorthand for the current user's home folder. So if your user name is \"foobar\" it expands to /home/foobar/\n",
        "# mkdir = make directory\n",
        "# cp = copy\n",
        "!mkdir ~/.kaggle\n",
        "!cp kaggle.json ~/.kaggle/"
      ],
      "execution_count": null,
      "outputs": []
    },
    {
      "cell_type": "code",
      "metadata": {
        "id": "g0IFOWwREeJv"
      },
      "source": [
        "# save this file into a directory named kaggle\n",
        "#Chmod 600 (chmod a+rwx,u-x,g-rwx,o-rwx) sets permissions so that, (U)ser / owner can read, can write and can't execute. \n",
        "#(G)roup can't read, can't write and can't execute. (O)thers can't read, can't write and can't execute.\n",
        "\n",
        "!chmod 600 ~/.kaggle/kaggle.json"
      ],
      "execution_count": null,
      "outputs": []
    },
    {
      "cell_type": "code",
      "metadata": {
        "id": "vTTt167WEhSn"
      },
      "source": [
        "#Copy the dataset API and paste it\n",
        "!kaggle datasets download -d datasets_NAME"
      ],
      "execution_count": null,
      "outputs": []
    },
    {
      "cell_type": "code",
      "metadata": {
        "id": "PtSKOfJxElkf"
      },
      "source": [
        "#Show the list of files in the dataset\n",
        "!ls"
      ],
      "execution_count": null,
      "outputs": []
    },
    {
      "cell_type": "code",
      "metadata": {
        "id": "OsEfCMbYEmlE"
      },
      "source": [
        "!unzip \\*.zip"
      ],
      "execution_count": null,
      "outputs": []
    },
    {
      "cell_type": "code",
      "metadata": {
        "id": "oVaH9jBrEsX8"
      },
      "source": [
        "import pandas as pd\n",
        "df=pd.read_csv(\"filename.csv\")\n",
        "df"
      ],
      "execution_count": null,
      "outputs": []
    }
  ]
}