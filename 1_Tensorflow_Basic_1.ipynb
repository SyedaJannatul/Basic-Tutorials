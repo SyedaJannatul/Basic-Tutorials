{
  "nbformat": 4,
  "nbformat_minor": 0,
  "metadata": {
    "kernelspec": {
      "display_name": "Python 3",
      "language": "python",
      "name": "python3"
    },
    "language_info": {
      "codemirror_mode": {
        "name": "ipython",
        "version": 3
      },
      "file_extension": ".py",
      "mimetype": "text/x-python",
      "name": "python",
      "nbconvert_exporter": "python",
      "pygments_lexer": "ipython3",
      "version": "3.7.9"
    },
    "colab": {
      "name": "1.Tensorflow Basic-1.ipynb",
      "provenance": [],
      "include_colab_link": true
    }
  },
  "cells": [
    {
      "cell_type": "markdown",
      "metadata": {
        "id": "view-in-github",
        "colab_type": "text"
      },
      "source": [
        "<a href=\"https://colab.research.google.com/github/SyedaJannatul/Basic-Tutorials/blob/main/1_Tensorflow_Basic_1.ipynb\" target=\"_parent\"><img src=\"https://colab.research.google.com/assets/colab-badge.svg\" alt=\"Open In Colab\"/></a>"
      ]
    },
    {
      "cell_type": "code",
      "metadata": {
        "id": "sQ30OsCeQFen"
      },
      "source": [
        "import tensorflow as tf"
      ],
      "execution_count": null,
      "outputs": []
    },
    {
      "cell_type": "markdown",
      "metadata": {
        "id": "-zpylwIvQFey"
      },
      "source": [
        "# Initialization of tensor"
      ]
    },
    {
      "cell_type": "code",
      "metadata": {
        "id": "j9NC-RV8QFez"
      },
      "source": [
        "# Initialization tensor-constant\n",
        "x=tf.constant(4,shape=(1,1),dtype=tf.float32)\n",
        "print(x)"
      ],
      "execution_count": null,
      "outputs": []
    },
    {
      "cell_type": "code",
      "metadata": {
        "id": "sDNJhM3xQFe0",
        "outputId": "57f3a0cb-6888-4fe2-f6f0-523e63b68622"
      },
      "source": [
        "x=tf.constant([[1,2,3],[4,5,6]])\n",
        "print(x)"
      ],
      "execution_count": null,
      "outputs": [
        {
          "output_type": "stream",
          "text": [
            "tf.Tensor(\n",
            "[[1 2 3]\n",
            " [4 5 6]], shape=(2, 3), dtype=int32)\n"
          ],
          "name": "stdout"
        }
      ]
    },
    {
      "cell_type": "code",
      "metadata": {
        "id": "tvinBqhEQFe1",
        "outputId": "7411a599-cf05-489f-c730-97bc8710bd59"
      },
      "source": [
        "x=tf.ones((3,3)) #x=ones(shape=(3,3))\n",
        "print(x)"
      ],
      "execution_count": null,
      "outputs": [
        {
          "output_type": "stream",
          "text": [
            "tf.Tensor(\n",
            "[[1. 1. 1.]\n",
            " [1. 1. 1.]\n",
            " [1. 1. 1.]], shape=(3, 3), dtype=float32)\n"
          ],
          "name": "stdout"
        }
      ]
    },
    {
      "cell_type": "code",
      "metadata": {
        "id": "Lei7pKRLQFe2",
        "outputId": "e2568f4e-76ad-430f-8a83-6ea174c1db24"
      },
      "source": [
        "x=tf.zeros((3,3)) #x=tf.zeros(shape=(3,3))\n",
        "print(x)"
      ],
      "execution_count": null,
      "outputs": [
        {
          "output_type": "stream",
          "text": [
            "tf.Tensor(\n",
            "[[0. 0. 0.]\n",
            " [0. 0. 0.]\n",
            " [0. 0. 0.]], shape=(3, 3), dtype=float32)\n"
          ],
          "name": "stdout"
        }
      ]
    },
    {
      "cell_type": "code",
      "metadata": {
        "id": "aVsakmeGQFe3",
        "outputId": "960ae651-c403-4d80-da98-607ac6eef8d8"
      },
      "source": [
        "x=tf.eye(3) #eye= I-> for identity matrix\n",
        "print(x)"
      ],
      "execution_count": null,
      "outputs": [
        {
          "output_type": "stream",
          "text": [
            "tf.Tensor(\n",
            "[[1. 0. 0.]\n",
            " [0. 1. 0.]\n",
            " [0. 0. 1.]], shape=(3, 3), dtype=float32)\n"
          ],
          "name": "stdout"
        }
      ]
    },
    {
      "cell_type": "code",
      "metadata": {
        "id": "g-qmeKVeQFe3",
        "outputId": "9591fbe9-7710-40ef-b478-46a293e9e913"
      },
      "source": [
        "#Standard normal distribution\n",
        "x=tf.random.normal((3,3),mean=0,stddev=1)\n",
        "print(x)"
      ],
      "execution_count": null,
      "outputs": [
        {
          "output_type": "stream",
          "text": [
            "tf.Tensor(\n",
            "[[ 1.1923867  -1.319315    0.9843424 ]\n",
            " [ 0.4564766   0.5624695  -1.0556303 ]\n",
            " [ 0.09607963 -0.08906709  2.7081847 ]], shape=(3, 3), dtype=float32)\n"
          ],
          "name": "stdout"
        }
      ]
    },
    {
      "cell_type": "code",
      "metadata": {
        "id": "VMImbsMLQFe4",
        "outputId": "7e672e51-4007-4313-a26b-095c62fc4c60"
      },
      "source": [
        "#Standard uniform distribution\n",
        "x=tf.random.uniform((1,3),minval=0,maxval=1)\n",
        "print(x)"
      ],
      "execution_count": null,
      "outputs": [
        {
          "output_type": "stream",
          "text": [
            "tf.Tensor([[0.9955102  0.44561696 0.35851836]], shape=(1, 3), dtype=float32)\n"
          ],
          "name": "stdout"
        }
      ]
    },
    {
      "cell_type": "code",
      "metadata": {
        "id": "7PJu2tDMQFe5",
        "outputId": "4aedee63-8be5-4e20-d831-bc9f222f49b1"
      },
      "source": [
        "#similar range function in python\n",
        "x=tf.range(9)\n",
        "print(x)"
      ],
      "execution_count": null,
      "outputs": [
        {
          "output_type": "stream",
          "text": [
            "tf.Tensor([0 1 2 3 4 5 6 7 8], shape=(9,), dtype=int32)\n"
          ],
          "name": "stdout"
        }
      ]
    },
    {
      "cell_type": "code",
      "metadata": {
        "id": "0xJ0yFXiQFe5",
        "outputId": "bcad0856-1f83-4394-e05c-496cb76313f1"
      },
      "source": [
        "x=tf.range(start=1,limit=10,delta=2)\n",
        "print(x)"
      ],
      "execution_count": null,
      "outputs": [
        {
          "output_type": "stream",
          "text": [
            "tf.Tensor([1 3 5 7 9], shape=(5,), dtype=int32)\n"
          ],
          "name": "stdout"
        }
      ]
    },
    {
      "cell_type": "code",
      "metadata": {
        "id": "BpkvcaEAQFe6",
        "outputId": "6940298d-8edc-4e91-bb3d-b30d98e23141"
      },
      "source": [
        "#Type casting\n",
        "y=tf.cast(x,dtype=tf.float64)\n",
        "print(y)"
      ],
      "execution_count": null,
      "outputs": [
        {
          "output_type": "stream",
          "text": [
            "tf.Tensor([1. 3. 5. 7. 9.], shape=(5,), dtype=float64)\n"
          ],
          "name": "stdout"
        }
      ]
    },
    {
      "cell_type": "markdown",
      "metadata": {
        "id": "OQV1zsRrQFe6"
      },
      "source": [
        "# Mathematical operation"
      ]
    },
    {
      "cell_type": "code",
      "metadata": {
        "id": "W8Y8ko9VQFe7"
      },
      "source": [
        "x=tf.constant([1,2,3])\n",
        "y=tf.constant([9,8,7])"
      ],
      "execution_count": null,
      "outputs": []
    },
    {
      "cell_type": "code",
      "metadata": {
        "id": "yMJ8fNrMQFe7",
        "outputId": "fe40978a-23f9-4e12-a5b8-af9cc67b4b7f"
      },
      "source": [
        "z=tf.add(x,y)\n",
        "print(z)\n",
        "m=x+y\n",
        "print(m)"
      ],
      "execution_count": null,
      "outputs": [
        {
          "output_type": "stream",
          "text": [
            "tf.Tensor([10 10 10], shape=(3,), dtype=int32)\n",
            "tf.Tensor([10 10 10], shape=(3,), dtype=int32)\n"
          ],
          "name": "stdout"
        }
      ]
    },
    {
      "cell_type": "code",
      "metadata": {
        "id": "rMIIogMTQFe8",
        "outputId": "51dc4aef-a3c5-4063-e693-c3aff9ab5094"
      },
      "source": [
        "z=tf.subtract(x,y)\n",
        "print(z)\n",
        "m=x-y\n",
        "print(m)"
      ],
      "execution_count": null,
      "outputs": [
        {
          "output_type": "stream",
          "text": [
            "tf.Tensor([-8 -6 -4], shape=(3,), dtype=int32)\n",
            "tf.Tensor([-8 -6 -4], shape=(3,), dtype=int32)\n"
          ],
          "name": "stdout"
        }
      ]
    },
    {
      "cell_type": "code",
      "metadata": {
        "id": "RJwEJC1TQFe8",
        "outputId": "9cf2f0e4-dfd8-4716-87e6-d19f6823125e"
      },
      "source": [
        "z=tf.divide(x,y)\n",
        "print(z)\n",
        "m=x/y\n",
        "print(m)"
      ],
      "execution_count": null,
      "outputs": [
        {
          "output_type": "stream",
          "text": [
            "tf.Tensor([0.11111111 0.25       0.42857143], shape=(3,), dtype=float64)\n",
            "tf.Tensor([0.11111111 0.25       0.42857143], shape=(3,), dtype=float64)\n"
          ],
          "name": "stdout"
        }
      ]
    },
    {
      "cell_type": "code",
      "metadata": {
        "id": "YEvhc1hlQFe9",
        "outputId": "63bb3062-b8ff-41e3-8f33-6c72819791ed"
      },
      "source": [
        "z=tf.multiply(x,y)\n",
        "print(z)\n",
        "m=x*y\n",
        "print(m)"
      ],
      "execution_count": null,
      "outputs": [
        {
          "output_type": "stream",
          "text": [
            "tf.Tensor([ 9 16 21], shape=(3,), dtype=int32)\n",
            "tf.Tensor([ 9 16 21], shape=(3,), dtype=int32)\n"
          ],
          "name": "stdout"
        }
      ]
    },
    {
      "cell_type": "code",
      "metadata": {
        "id": "PaQqHW_JQFe9",
        "outputId": "95fd904d-d87d-4541-9d78-b47ace4fb35a"
      },
      "source": [
        "z=tf.tensordot(x,y,axes=1)#after multiplication add all elements\n",
        "print(z)"
      ],
      "execution_count": null,
      "outputs": [
        {
          "output_type": "stream",
          "text": [
            "tf.Tensor(46, shape=(), dtype=int32)\n"
          ],
          "name": "stdout"
        }
      ]
    },
    {
      "cell_type": "code",
      "metadata": {
        "id": "V7W1uyvEQFe9",
        "outputId": "bcd939ef-a820-493f-fdbe-cbb6615c5b3f"
      },
      "source": [
        "z=tf.tensordot(x,y,axes=0)\n",
        "print(z)"
      ],
      "execution_count": null,
      "outputs": [
        {
          "output_type": "stream",
          "text": [
            "tf.Tensor(\n",
            "[[ 9  8  7]\n",
            " [18 16 14]\n",
            " [27 24 21]], shape=(3, 3), dtype=int32)\n"
          ],
          "name": "stdout"
        }
      ]
    },
    {
      "cell_type": "code",
      "metadata": {
        "id": "MeOBB6LWQFe-",
        "outputId": "8851b6b2-b61f-4348-d217-f3a88840f3f9"
      },
      "source": [
        "z=tf.reduce_sum(x*y,axis=0)#after multiplication add all elements\n",
        "print(z)"
      ],
      "execution_count": null,
      "outputs": [
        {
          "output_type": "stream",
          "text": [
            "tf.Tensor(46, shape=(), dtype=int32)\n"
          ],
          "name": "stdout"
        }
      ]
    },
    {
      "cell_type": "code",
      "metadata": {
        "id": "tcpBqfWJQFe-",
        "outputId": "4b999fea-9969-4a00-bcbd-dbfd511a8aa3"
      },
      "source": [
        "#Power function\n",
        "z=tf.math.pow(x,5)\n",
        "print(z)\n",
        "\n",
        "z=x**5\n",
        "print(z)"
      ],
      "execution_count": null,
      "outputs": [
        {
          "output_type": "stream",
          "text": [
            "tf.Tensor([  1  32 243], shape=(3,), dtype=int32)\n",
            "tf.Tensor([  1  32 243], shape=(3,), dtype=int32)\n"
          ],
          "name": "stdout"
        }
      ]
    },
    {
      "cell_type": "code",
      "metadata": {
        "id": "m4ixxEPlQFe_",
        "outputId": "79e52ca3-6b35-499d-b816-816141323c1d"
      },
      "source": [
        "x1=tf.constant([[1,2,3],[4,5,6]])\n",
        "print(x1)"
      ],
      "execution_count": null,
      "outputs": [
        {
          "output_type": "stream",
          "text": [
            "tf.Tensor(\n",
            "[[1 2 3]\n",
            " [4 5 6]], shape=(2, 3), dtype=int32)\n"
          ],
          "name": "stdout"
        }
      ]
    },
    {
      "cell_type": "code",
      "metadata": {
        "id": "J9uRD_LZQFfA",
        "outputId": "631717f4-9bd3-42e1-af8d-35708a6f4952"
      },
      "source": [
        "y1=tf.constant([[11,22,33],[44,55,66],[77,88,99]])\n",
        "print(y1)"
      ],
      "execution_count": null,
      "outputs": [
        {
          "output_type": "stream",
          "text": [
            "tf.Tensor(\n",
            "[[11 22 33]\n",
            " [44 55 66]\n",
            " [77 88 99]], shape=(3, 3), dtype=int32)\n"
          ],
          "name": "stdout"
        }
      ]
    },
    {
      "cell_type": "code",
      "metadata": {
        "id": "-H8y3l7mQFfA",
        "outputId": "27355ede-4f4b-4f01-a2b8-d394ccee71b1"
      },
      "source": [
        "#Matrix multiplication\n",
        "z=tf.matmul(x1,y1)\n",
        "print(z)\n",
        "\n",
        "z=x1@y1\n",
        "print(z)"
      ],
      "execution_count": null,
      "outputs": [
        {
          "output_type": "stream",
          "text": [
            "tf.Tensor(\n",
            "[[ 330  396  462]\n",
            " [ 726  891 1056]], shape=(2, 3), dtype=int32)\n",
            "tf.Tensor(\n",
            "[[ 330  396  462]\n",
            " [ 726  891 1056]], shape=(2, 3), dtype=int32)\n"
          ],
          "name": "stdout"
        }
      ]
    },
    {
      "cell_type": "markdown",
      "metadata": {
        "id": "ZvKyJ3jPQFfB"
      },
      "source": [
        "# Indexing"
      ]
    },
    {
      "cell_type": "code",
      "metadata": {
        "id": "HCFjkfwpQFfB"
      },
      "source": [
        "x=tf.constant([0,1,2,3,4,5,6,7,8,9])"
      ],
      "execution_count": null,
      "outputs": []
    },
    {
      "cell_type": "code",
      "metadata": {
        "id": "1NVZuZ8-QFfB",
        "outputId": "f92172bf-7b25-4ad5-b96d-a5e6fc3d40ba"
      },
      "source": [
        "print(x[:])"
      ],
      "execution_count": null,
      "outputs": [
        {
          "output_type": "stream",
          "text": [
            "tf.Tensor([0 1 2 3 4 5 6 7 8 9], shape=(10,), dtype=int32)\n"
          ],
          "name": "stdout"
        }
      ]
    },
    {
      "cell_type": "code",
      "metadata": {
        "id": "FTkxubNVQFfC",
        "outputId": "c884ac38-1d69-4417-af68-92378857e0a3"
      },
      "source": [
        "print(x[1:4])"
      ],
      "execution_count": null,
      "outputs": [
        {
          "output_type": "stream",
          "text": [
            "tf.Tensor([1 2 3], shape=(3,), dtype=int32)\n"
          ],
          "name": "stdout"
        }
      ]
    },
    {
      "cell_type": "code",
      "metadata": {
        "id": "xIjkcxgyQFfC",
        "outputId": "7f720acb-84a1-44da-a9a9-c2948591bed6"
      },
      "source": [
        "print(x[:5])"
      ],
      "execution_count": null,
      "outputs": [
        {
          "output_type": "stream",
          "text": [
            "tf.Tensor([0 1 2 3 4], shape=(5,), dtype=int32)\n"
          ],
          "name": "stdout"
        }
      ]
    },
    {
      "cell_type": "code",
      "metadata": {
        "id": "Nb8rRFISQFfC",
        "outputId": "0d607ad4-7f69-4207-c331-cd04aded92f0"
      },
      "source": [
        "print(x[3:])"
      ],
      "execution_count": null,
      "outputs": [
        {
          "output_type": "stream",
          "text": [
            "tf.Tensor([3 4 5 6 7 8 9], shape=(7,), dtype=int32)\n"
          ],
          "name": "stdout"
        }
      ]
    },
    {
      "cell_type": "code",
      "metadata": {
        "id": "QDdI1HcQQFfD",
        "outputId": "2df6330d-5386-414d-d21c-7217e32f8c7c"
      },
      "source": [
        "print(x[::2])"
      ],
      "execution_count": null,
      "outputs": [
        {
          "output_type": "stream",
          "text": [
            "tf.Tensor([0 2 4 6 8], shape=(5,), dtype=int32)\n"
          ],
          "name": "stdout"
        }
      ]
    },
    {
      "cell_type": "code",
      "metadata": {
        "id": "ca_xDxEDQFfD",
        "outputId": "0689bf7a-437d-41aa-b1b7-082c905a2907"
      },
      "source": [
        "print(x[::-1])"
      ],
      "execution_count": null,
      "outputs": [
        {
          "output_type": "stream",
          "text": [
            "tf.Tensor([9 8 7 6 5 4 3 2 1 0], shape=(10,), dtype=int32)\n"
          ],
          "name": "stdout"
        }
      ]
    },
    {
      "cell_type": "code",
      "metadata": {
        "id": "V3d_tmgOQFfE",
        "outputId": "f273611b-ea6f-41f5-a633-afcd435c6f16"
      },
      "source": [
        "#find index\n",
        "y=tf.constant([5,4,78,7])\n",
        "indices=tf.constant([1,2])#here value work as index no.\n",
        "x_ind=tf.gather(y,indices)\n",
        "print(x_ind)"
      ],
      "execution_count": null,
      "outputs": [
        {
          "output_type": "stream",
          "text": [
            "tf.Tensor([ 4 78], shape=(2,), dtype=int32)\n"
          ],
          "name": "stdout"
        }
      ]
    },
    {
      "cell_type": "code",
      "metadata": {
        "id": "A2hq6lF7QFfE",
        "outputId": "f09c58e1-988e-49e1-92ce-99d0807158e9"
      },
      "source": [
        "#matrix index\n",
        "x=tf.constant([[1,2],\n",
        "              [3,4],\n",
        "              [5,6]])\n",
        "print(x)"
      ],
      "execution_count": null,
      "outputs": [
        {
          "output_type": "stream",
          "text": [
            "tf.Tensor(\n",
            "[[1 2]\n",
            " [3 4]\n",
            " [5 6]], shape=(3, 2), dtype=int32)\n"
          ],
          "name": "stdout"
        }
      ]
    },
    {
      "cell_type": "code",
      "metadata": {
        "id": "BVH6l5h0QFfE",
        "outputId": "fb2544ef-2c60-4274-9dd2-687f5824d5f9"
      },
      "source": [
        "print(x[0,:])\n",
        "print(x[0])"
      ],
      "execution_count": null,
      "outputs": [
        {
          "output_type": "stream",
          "text": [
            "tf.Tensor([1 2], shape=(2,), dtype=int32)\n",
            "tf.Tensor([1 2], shape=(2,), dtype=int32)\n"
          ],
          "name": "stdout"
        }
      ]
    },
    {
      "cell_type": "code",
      "metadata": {
        "id": "TNGoe-FfQFfF",
        "outputId": "f244c4d0-6c38-4d0d-e3b8-ba2479ff866c"
      },
      "source": [
        "print(x[0:2,:])\n",
        "print(x[0:2])"
      ],
      "execution_count": null,
      "outputs": [
        {
          "output_type": "stream",
          "text": [
            "tf.Tensor(\n",
            "[[1 2]\n",
            " [3 4]], shape=(2, 2), dtype=int32)\n",
            "tf.Tensor(\n",
            "[[1 2]\n",
            " [3 4]], shape=(2, 2), dtype=int32)\n"
          ],
          "name": "stdout"
        }
      ]
    },
    {
      "cell_type": "code",
      "metadata": {
        "id": "BKRe_R6fQFfF",
        "outputId": "eafefb23-4d8e-40a1-91ef-3358354c28d4"
      },
      "source": [
        "print(x[0:3,:])\n",
        "print(x[0:3])"
      ],
      "execution_count": null,
      "outputs": [
        {
          "output_type": "stream",
          "text": [
            "tf.Tensor(\n",
            "[[1 2]\n",
            " [3 4]\n",
            " [5 6]], shape=(3, 2), dtype=int32)\n",
            "tf.Tensor(\n",
            "[[1 2]\n",
            " [3 4]\n",
            " [5 6]], shape=(3, 2), dtype=int32)\n"
          ],
          "name": "stdout"
        }
      ]
    },
    {
      "cell_type": "markdown",
      "metadata": {
        "id": "ay9O4u_cQFfG"
      },
      "source": [
        "# Reshaping"
      ]
    },
    {
      "cell_type": "code",
      "metadata": {
        "id": "9kyio9djQFfG",
        "outputId": "61a7ad79-fc95-4eb1-efc5-b5259bb1e578"
      },
      "source": [
        "x=tf.range(9)\n",
        "print(x)"
      ],
      "execution_count": null,
      "outputs": [
        {
          "output_type": "stream",
          "text": [
            "tf.Tensor([0 1 2 3 4 5 6 7 8], shape=(9,), dtype=int32)\n"
          ],
          "name": "stdout"
        }
      ]
    },
    {
      "cell_type": "code",
      "metadata": {
        "id": "833BtaO_QFfG",
        "outputId": "49df6d1d-140f-4899-f94e-8f7a0e47fa15"
      },
      "source": [
        "y=tf.reshape(x,(3,3))\n",
        "print(y)"
      ],
      "execution_count": null,
      "outputs": [
        {
          "output_type": "stream",
          "text": [
            "tf.Tensor(\n",
            "[[0 1 2]\n",
            " [3 4 5]\n",
            " [6 7 8]], shape=(3, 3), dtype=int32)\n"
          ],
          "name": "stdout"
        }
      ]
    },
    {
      "cell_type": "code",
      "metadata": {
        "id": "OFe_Uy7eQFfH",
        "outputId": "a646357d-beba-49f6-dd70-d5c31188ecf9"
      },
      "source": [
        "x=tf.range(6)\n",
        "print(x)"
      ],
      "execution_count": null,
      "outputs": [
        {
          "output_type": "stream",
          "text": [
            "tf.Tensor([0 1 2 3 4 5], shape=(6,), dtype=int32)\n"
          ],
          "name": "stdout"
        }
      ]
    },
    {
      "cell_type": "code",
      "metadata": {
        "scrolled": true,
        "id": "lHhXCcvHQFfH",
        "outputId": "36cb2635-6e83-4b99-c6bc-fc655bf53f29"
      },
      "source": [
        "y=tf.reshape(x,(2,3))\n",
        "print(y)"
      ],
      "execution_count": null,
      "outputs": [
        {
          "output_type": "stream",
          "text": [
            "tf.Tensor(\n",
            "[[0 1 2]\n",
            " [3 4 5]], shape=(2, 3), dtype=int32)\n"
          ],
          "name": "stdout"
        }
      ]
    },
    {
      "cell_type": "markdown",
      "metadata": {
        "id": "ilTi9YEmQFfI"
      },
      "source": [
        "syntax -> tf.transpose(a, perm=None, conjugate=False, name='transpose')"
      ]
    },
    {
      "cell_type": "code",
      "metadata": {
        "id": "mrQcEwsjQFfI",
        "outputId": "be235ebb-ea18-4512-dc64-6924ef13d409"
      },
      "source": [
        "x = tf.constant([[1, 2, 3], [4, 5, 6]])#it works as tf.transpose(x, perm=[1, 0]) i.e row->column & column->row\n",
        "tf.transpose(x)"
      ],
      "execution_count": null,
      "outputs": [
        {
          "output_type": "execute_result",
          "data": {
            "text/plain": [
              "<tf.Tensor: shape=(3, 2), dtype=int32, numpy=\n",
              "array([[1, 4],\n",
              "       [2, 5],\n",
              "       [3, 6]])>"
            ]
          },
          "metadata": {
            "tags": []
          },
          "execution_count": 24
        }
      ]
    },
    {
      "cell_type": "code",
      "metadata": {
        "id": "BLjcKnznQFfI",
        "outputId": "c9bfd05d-0dfe-4aa0-c68a-441bb3720a38"
      },
      "source": [
        "x = tf.constant([[1 + 1j, 2 + 2j, 3 + 3j],\n",
        "                 [4 + 4j, 5 + 5j, 6 + 6j]])\n",
        "tf.transpose(x, conjugate=True) #If x is complex, setting conjugate=True gives the conjugate transpose"
      ],
      "execution_count": null,
      "outputs": [
        {
          "output_type": "execute_result",
          "data": {
            "text/plain": [
              "<tf.Tensor: shape=(3, 2), dtype=complex128, numpy=\n",
              "array([[1.-1.j, 4.-4.j],\n",
              "       [2.-2.j, 5.-5.j],\n",
              "       [3.-3.j, 6.-6.j]])>"
            ]
          },
          "metadata": {
            "tags": []
          },
          "execution_count": 25
        }
      ]
    },
    {
      "cell_type": "code",
      "metadata": {
        "id": "Yla9BsWKQFfJ",
        "outputId": "e4d02d5e-3832-4123-f467-aac7e15907a6"
      },
      "source": [
        "x = tf.constant([[[ 1,  2,  3],\n",
        "                  [ 4,  5,  6]],\n",
        "                 [[ 7,  8,  9],\n",
        "                  [10, 11, 12]]]) \n",
        "tf.transpose(x) #default to perm=[2,1,0]"
      ],
      "execution_count": null,
      "outputs": [
        {
          "output_type": "execute_result",
          "data": {
            "text/plain": [
              "<tf.Tensor: shape=(3, 2, 2), dtype=int32, numpy=\n",
              "array([[[ 1,  7],\n",
              "        [ 4, 10]],\n",
              "\n",
              "       [[ 2,  8],\n",
              "        [ 5, 11]],\n",
              "\n",
              "       [[ 3,  9],\n",
              "        [ 6, 12]]])>"
            ]
          },
          "metadata": {
            "tags": []
          },
          "execution_count": 26
        }
      ]
    },
    {
      "cell_type": "markdown",
      "metadata": {
        "id": "1v8q86ZPQFfK"
      },
      "source": [
        " x =      1  2  3     7   8   9\n",
        "          4  5  6     10  11  12\n",
        "\n",
        "here 0->2, 1->2, 2->3. so in x' will be 0->3, 1->2, 2->2 \n",
        "since here [2,1,0].\n",
        "                    \n",
        " x'=      1  7     2  8     3  9\n",
        "          4  10    5  11    6  12"
      ]
    },
    {
      "cell_type": "code",
      "metadata": {
        "id": "Ra7z3ZrCQFfK",
        "outputId": "6e9c1cf8-5712-4d96-95a4-648c6f8b77b9"
      },
      "source": [
        "tf.transpose(x, perm=[0, 2, 1])"
      ],
      "execution_count": null,
      "outputs": [
        {
          "output_type": "execute_result",
          "data": {
            "text/plain": [
              "<tf.Tensor: shape=(2, 3, 2), dtype=int32, numpy=\n",
              "array([[[ 1,  4],\n",
              "        [ 2,  5],\n",
              "        [ 3,  6]],\n",
              "\n",
              "       [[ 7, 10],\n",
              "        [ 8, 11],\n",
              "        [ 9, 12]]])>"
            ]
          },
          "metadata": {
            "tags": []
          },
          "execution_count": 27
        }
      ]
    },
    {
      "cell_type": "markdown",
      "metadata": {
        "id": "aVe_Gw3CQFfK"
      },
      "source": [
        " x =      1  2  3     7   8   9\n",
        "          4  5  6     10  11  12\n",
        "\n",
        "here 0->2, 1->2, 2->3. so in x' will be 0->2, 1->3, 2->2 \n",
        "since here [0,2,1].\n",
        "          \n",
        " x'=      1  4     7  10   \n",
        "          2  5     8  11   \n",
        "          3  6     9  12"
      ]
    }
  ]
}